{
  "nbformat": 4,
  "nbformat_minor": 0,
  "metadata": {
    "colab": {
      "provenance": []
    },
    "kernelspec": {
      "name": "python3",
      "display_name": "Python 3"
    },
    "language_info": {
      "name": "python"
    }
  },
  "cells": [
    {
      "cell_type": "markdown",
      "source": [
        "# Operators\n",
        "\n",
        "\n",
        "\n"
      ],
      "metadata": {
        "id": "O-44bVDG5XtI"
      }
    },
    {
      "cell_type": "markdown",
      "source": [
        "---"
      ],
      "metadata": {
        "id": "-Wg25K0mMT_h"
      }
    },
    {
      "cell_type": "markdown",
      "source": [
        "## **Content**\n",
        "\n",
        "\n",
        "1. Operators\n",
        "2. Arithmetic operators\n",
        "3. Precedence of operators\n",
        "4. Boolean operators\n",
        "5. Comparison operators\n",
        "6. Assignment operators\n",
        "7. Logical operators\n",
        "\n",
        "\n",
        "\n"
      ],
      "metadata": {
        "id": "ngrNCaeIKPgm"
      }
    },
    {
      "cell_type": "markdown",
      "source": [
        "---"
      ],
      "metadata": {
        "id": "pHnWtfY3Mndi"
      }
    },
    {
      "cell_type": "markdown",
      "source": [
        "## **Operators**"
      ],
      "metadata": {
        "id": "cl_b6yI6pE4M"
      }
    },
    {
      "cell_type": "markdown",
      "source": [
        "- **Operators** are symbols of operation.\n",
        "- **Operands** are values on which operation is happening\n",
        "- Operation/Expression are combination of operands and operators\n",
        "- Operation/Expression gives a result after execution."
      ],
      "metadata": {
        "id": "XrcGNyhtpKrF"
      }
    },
    {
      "cell_type": "markdown",
      "source": [
        "<img src=\"https://d2beiqkhq929f0.cloudfront.net/public_assets/assets/000/040/405/original/operators.png?1689918923\" width=600 height=200>"
      ],
      "metadata": {
        "id": "oLPXo-Dr6OIC"
      }
    },
    {
      "cell_type": "markdown",
      "source": [
        "---"
      ],
      "metadata": {
        "id": "klkYm0ZAM7kO"
      }
    },
    {
      "cell_type": "markdown",
      "source": [
        "## **Arithmetic operators**"
      ],
      "metadata": {
        "id": "tD0pLrEHpbVs"
      }
    },
    {
      "cell_type": "markdown",
      "source": [
        "- operators such as ```+```, ```-```, ```*```, ```/```, ```//```, ```**```, ```%```"
      ],
      "metadata": {
        "id": "CsC6jrP0pdxB"
      }
    },
    {
      "cell_type": "markdown",
      "source": [
        "<img src=\"https://d2beiqkhq929f0.cloudfront.net/public_assets/assets/000/040/407/original/arithmetic_op.png?1689919111\" width=600 height=100>"
      ],
      "metadata": {
        "id": "xiXP7hPb6tU1"
      }
    },
    {
      "cell_type": "code",
      "source": [
        "# Addition\n",
        "10 + 3"
      ],
      "metadata": {
        "colab": {
          "base_uri": "https://localhost:8080/"
        },
        "id": "AcRCBtmjpuY-",
        "outputId": "f948051c-2c24-421b-92e1-d0d8672209ba"
      },
      "execution_count": 4,
      "outputs": [
        {
          "output_type": "execute_result",
          "data": {
            "text/plain": [
              "13"
            ]
          },
          "metadata": {},
          "execution_count": 4
        }
      ]
    },
    {
      "cell_type": "code",
      "source": [
        "# Subtraction\n",
        "10 - 3"
      ],
      "metadata": {
        "colab": {
          "base_uri": "https://localhost:8080/"
        },
        "id": "yXhTS12dpww1",
        "outputId": "6930d5f0-2c68-4da5-d65f-c3cfa21e7026"
      },
      "execution_count": 5,
      "outputs": [
        {
          "output_type": "execute_result",
          "data": {
            "text/plain": [
              "7"
            ]
          },
          "metadata": {},
          "execution_count": 5
        }
      ]
    },
    {
      "cell_type": "code",
      "source": [
        "# Multiplication\n",
        "10 * 3"
      ],
      "metadata": {
        "colab": {
          "base_uri": "https://localhost:8080/"
        },
        "id": "AoxkiY4npyYH",
        "outputId": "e1f2933a-9045-4b0b-8e35-285c3106a664"
      },
      "execution_count": 6,
      "outputs": [
        {
          "output_type": "execute_result",
          "data": {
            "text/plain": [
              "30"
            ]
          },
          "metadata": {},
          "execution_count": 6
        }
      ]
    },
    {
      "cell_type": "markdown",
      "source": [
        "* The return type of the division operator ```/``` is always a floating point object."
      ],
      "metadata": {
        "id": "IicTDCRMp1hF"
      }
    },
    {
      "cell_type": "code",
      "source": [
        "# Division\n",
        "10 / 3"
      ],
      "metadata": {
        "colab": {
          "base_uri": "https://localhost:8080/"
        },
        "id": "zrwoWbeTp_fm",
        "outputId": "2f378b5a-0652-476a-8326-ad2088377950"
      },
      "execution_count": 7,
      "outputs": [
        {
          "output_type": "execute_result",
          "data": {
            "text/plain": [
              "3.3333333333333335"
            ]
          },
          "metadata": {},
          "execution_count": 7
        }
      ]
    },
    {
      "cell_type": "code",
      "source": [
        "# float + float -> float\n",
        "5.0 +5.0  #10.0"
      ],
      "metadata": {
        "colab": {
          "base_uri": "https://localhost:8080/"
        },
        "id": "mceTTdjTqIy9",
        "outputId": "c52bf348-b715-4aa7-b0e3-6996693792a0"
      },
      "execution_count": 8,
      "outputs": [
        {
          "output_type": "execute_result",
          "data": {
            "text/plain": [
              "10.0"
            ]
          },
          "metadata": {},
          "execution_count": 8
        }
      ]
    },
    {
      "cell_type": "markdown",
      "source": [
        "### **Subset diagram of number system -**\n",
        "\n"
      ],
      "metadata": {
        "id": "CjGjn3MtqRE6"
      }
    },
    {
      "cell_type": "markdown",
      "source": [
        "integers $\\subset$ floats $\\subset$ real numbers"
      ],
      "metadata": {
        "id": "1PXWRQlGqh2V"
      }
    },
    {
      "cell_type": "markdown",
      "source": [
        "<img src=\"https://d2beiqkhq929f0.cloudfront.net/public_assets/assets/000/040/411/original/number_system.png?1689919391\" width=500 height=400>"
      ],
      "metadata": {
        "id": "9i8x8qdS700O"
      }
    },
    {
      "cell_type": "markdown",
      "source": [
        "- Python retains as much information as it can.\n",
        "  - for +, -, * if one of the operand is float, then result is float.\n",
        "  - for / operator, the result is always float."
      ],
      "metadata": {
        "id": "JTrbDRBr807S"
      }
    },
    {
      "cell_type": "markdown",
      "source": [
        "---"
      ],
      "metadata": {
        "id": "LKLNR4IxM8Zk"
      }
    },
    {
      "cell_type": "markdown",
      "source": [
        "## **Quiz-1**\n"
      ],
      "metadata": {
        "id": "Anq2Qh6Xqom3"
      }
    },
    {
      "cell_type": "markdown",
      "source": [
        "**Question:** What would be the output of the following?\n",
        "\n",
        "```python\n",
        "x = 10\n",
        "y = 2.5\n",
        "print(x / y)\n",
        "```\n",
        "\n",
        "A. ```4```\n",
        "\n",
        "B. ```4.0```\n",
        "\n",
        "C. ```4.5```\n",
        "\n",
        "**Ans:** B. `4.0`"
      ],
      "metadata": {
        "id": "yNB2rQI3qyF9"
      }
    },
    {
      "cell_type": "markdown",
      "source": [
        "---"
      ],
      "metadata": {
        "id": "17z92C3yM81c"
      }
    },
    {
      "cell_type": "markdown",
      "source": [
        "## **Quiz-2**"
      ],
      "metadata": {
        "id": "a5faFS4mrcTN"
      }
    },
    {
      "cell_type": "markdown",
      "source": [
        "**Question:** What would be the output of the following?\n",
        "\n",
        "```\n",
        "1.0+2\n",
        "```\n",
        "A. ```3.0```\n",
        "\n",
        "B. ```\"3.0\"```\n",
        "\n",
        "c. ```3```\n",
        "\n",
        "**Ans:** A. `3.0`\n",
        "\n",
        "\n"
      ],
      "metadata": {
        "id": "18nUv_JQ9Mck"
      }
    },
    {
      "cell_type": "markdown",
      "source": [
        "---"
      ],
      "metadata": {
        "id": "O3GlSulzM9TZ"
      }
    },
    {
      "cell_type": "markdown",
      "source": [
        "### **Some more operators -**"
      ],
      "metadata": {
        "id": "Bvf_4_DBrqTe"
      }
    },
    {
      "cell_type": "markdown",
      "source": [
        "#### **Exponentiation operator**\n",
        "\n",
        "```x**y``` = x $^ y$"
      ],
      "metadata": {
        "id": "8Z5MMf-7rwIq"
      }
    },
    {
      "cell_type": "code",
      "source": [
        "5 ** 2"
      ],
      "metadata": {
        "colab": {
          "base_uri": "https://localhost:8080/"
        },
        "id": "_EtjzuFHr6SO",
        "outputId": "3b8d0bde-d0bb-45dc-abc6-efeda32536d4"
      },
      "execution_count": 11,
      "outputs": [
        {
          "output_type": "execute_result",
          "data": {
            "text/plain": [
              "25"
            ]
          },
          "metadata": {},
          "execution_count": 11
        }
      ]
    },
    {
      "cell_type": "code",
      "source": [
        "5 ** -1"
      ],
      "metadata": {
        "colab": {
          "base_uri": "https://localhost:8080/"
        },
        "id": "SoFnrYi9r7nC",
        "outputId": "24686ff0-3f9a-4e3a-8e59-a1af93f1999e"
      },
      "execution_count": 12,
      "outputs": [
        {
          "output_type": "execute_result",
          "data": {
            "text/plain": [
              "0.2"
            ]
          },
          "metadata": {},
          "execution_count": 12
        }
      ]
    },
    {
      "cell_type": "code",
      "source": [
        "5 ** 0.5 # square root"
      ],
      "metadata": {
        "colab": {
          "base_uri": "https://localhost:8080/"
        },
        "id": "66zOFC8isCNR",
        "outputId": "d924dabc-f38f-40f8-85e0-fc6d7f386b87"
      },
      "execution_count": 13,
      "outputs": [
        {
          "output_type": "execute_result",
          "data": {
            "text/plain": [
              "2.23606797749979"
            ]
          },
          "metadata": {},
          "execution_count": 13
        }
      ]
    },
    {
      "cell_type": "code",
      "source": [
        "5.0 ** 2"
      ],
      "metadata": {
        "colab": {
          "base_uri": "https://localhost:8080/"
        },
        "id": "biBMqCFLsGp8",
        "outputId": "c7f4831d-d6fa-4c29-c3f0-daa2e89bc8d7"
      },
      "execution_count": 14,
      "outputs": [
        {
          "output_type": "execute_result",
          "data": {
            "text/plain": [
              "25.0"
            ]
          },
          "metadata": {},
          "execution_count": 14
        }
      ]
    },
    {
      "cell_type": "markdown",
      "source": [
        "#### **Floor Division operator** (```//```)"
      ],
      "metadata": {
        "id": "fqQoJ_G8sK0y"
      }
    },
    {
      "cell_type": "markdown",
      "source": [
        "```x//y``` = floor(x/y)"
      ],
      "metadata": {
        "id": "ZfnpzUdCsXza"
      }
    },
    {
      "cell_type": "markdown",
      "source": [
        "**Floor function -**"
      ],
      "metadata": {
        "id": "8lnMYSrEsiLp"
      }
    },
    {
      "cell_type": "markdown",
      "source": [
        "- The floor() function gives the biggest integer less than the value.\n",
        "\n",
        "- On a number line, it gives the closest integer to the left of the value.\n",
        "\n",
        "- Example:\n",
        "  - floor(-0.67) gives -1\n",
        "  - floor(2.3) gives 2"
      ],
      "metadata": {
        "id": "pp3Cwqsysn84"
      }
    },
    {
      "cell_type": "markdown",
      "source": [
        "<img src = https://d2beiqkhq929f0.cloudfront.net/public_assets/assets/000/059/788/original/floorfunc1.png?1703076295 height = 200 width = 700>"
      ],
      "metadata": {
        "id": "5dIeD_ufQyEa"
      }
    },
    {
      "cell_type": "code",
      "source": [
        "10//3"
      ],
      "metadata": {
        "colab": {
          "base_uri": "https://localhost:8080/"
        },
        "id": "2MB9AMZmGeb0",
        "outputId": "f133582e-2068-4632-85e3-7ad1bb118198"
      },
      "execution_count": 15,
      "outputs": [
        {
          "output_type": "execute_result",
          "data": {
            "text/plain": [
              "3"
            ]
          },
          "metadata": {},
          "execution_count": 15
        }
      ]
    },
    {
      "cell_type": "code",
      "source": [
        "-10//3"
      ],
      "metadata": {
        "colab": {
          "base_uri": "https://localhost:8080/"
        },
        "id": "928nRT_8G0tH",
        "outputId": "1bae8846-ce31-4448-9b15-f92c876908aa"
      },
      "execution_count": 16,
      "outputs": [
        {
          "output_type": "execute_result",
          "data": {
            "text/plain": [
              "-4"
            ]
          },
          "metadata": {},
          "execution_count": 16
        }
      ]
    },
    {
      "cell_type": "markdown",
      "source": [
        "#### **Modulus operator** (```%```)\n",
        "\n",
        "\n"
      ],
      "metadata": {
        "id": "BKdmWrtqt6iJ"
      }
    },
    {
      "cell_type": "markdown",
      "source": [
        "```x % y``` -> remainder of `x / y`\n",
        "- If `x` is **'+ve'** -> remainder of `x / y`\n",
        "- If `x` is **'-ve'** -> `y - (x % y)`"
      ],
      "metadata": {
        "id": "PLqyJ28wuD0r"
      }
    },
    {
      "cell_type": "code",
      "source": [
        "10 % 3"
      ],
      "metadata": {
        "colab": {
          "base_uri": "https://localhost:8080/"
        },
        "id": "joGuMTAsuRy9",
        "outputId": "a361e4b5-a6c5-4ce3-a4e1-0c6b93722126"
      },
      "execution_count": 17,
      "outputs": [
        {
          "output_type": "execute_result",
          "data": {
            "text/plain": [
              "1"
            ]
          },
          "metadata": {},
          "execution_count": 17
        }
      ]
    },
    {
      "cell_type": "code",
      "source": [
        "-10 % 3"
      ],
      "metadata": {
        "colab": {
          "base_uri": "https://localhost:8080/"
        },
        "id": "RVOYRhnxuTcV",
        "outputId": "83a68e8f-e68d-42eb-a534-e1636923c186"
      },
      "execution_count": 18,
      "outputs": [
        {
          "output_type": "execute_result",
          "data": {
            "text/plain": [
              "2"
            ]
          },
          "metadata": {},
          "execution_count": 18
        }
      ]
    },
    {
      "cell_type": "markdown",
      "source": [
        "---"
      ],
      "metadata": {
        "id": "BpYJhzFGM-Ue"
      }
    },
    {
      "cell_type": "markdown",
      "source": [
        "## **Quiz-3**"
      ],
      "metadata": {
        "id": "T9FPXxZ3tIGc"
      }
    },
    {
      "cell_type": "markdown",
      "source": [
        "\n",
        "**Question:** Predict the output.\n",
        "\n",
        "```python\n",
        "print(10**-1)\n",
        "```\n",
        "\n",
        "A. ```10```\n",
        "\n",
        "B. ```1/10```\n",
        "\n",
        "C. ```0.1```\n",
        "\n",
        "**Ans:** C. `0.1`"
      ],
      "metadata": {
        "id": "Np9jx4rGtRwk"
      }
    },
    {
      "cell_type": "markdown",
      "source": [
        "## **Quiz-4**"
      ],
      "metadata": {
        "id": "_IQLnFeZtfiy"
      }
    },
    {
      "cell_type": "markdown",
      "source": [
        "**Question:** What would be the output of the following?\n",
        "\n",
        "```python\n",
        "15//2\n",
        "```\n",
        "A. ```7.5```\n",
        "\n",
        "B. ```7```\n",
        "\n",
        "C. ```1```\n",
        "\n",
        "**Ans:** B. `7`"
      ],
      "metadata": {
        "id": "nhuuDuGTtkVL"
      }
    },
    {
      "cell_type": "markdown",
      "source": [
        "---"
      ],
      "metadata": {
        "id": "inL-DV2JM-1i"
      }
    },
    {
      "cell_type": "markdown",
      "source": [
        "## **Precedence of operators**"
      ],
      "metadata": {
        "id": "WLJCLmPSufNb"
      }
    },
    {
      "cell_type": "markdown",
      "source": [
        "### **Question**: Predict the ouptut\n",
        "```python\n",
        "10-4*2\n",
        "```\n",
        "**Ans:** 2"
      ],
      "metadata": {
        "id": "hu6cvBIAuljc"
      }
    },
    {
      "cell_type": "markdown",
      "source": [
        "- Division and Multiplication have the same order of precedence.\n",
        "- Addition and Subtraction have the same order of precedence.\n",
        "- In case of encountering operators with same precedence, go from **left to right**.\n",
        "\n",
        "<img src=\"https://d2beiqkhq929f0.cloudfront.net/public_assets/assets/000/040/415/original/bodmas.png?1689922896\" width=600 height=300>"
      ],
      "metadata": {
        "id": "0b8jKe0uHS9L"
      }
    },
    {
      "cell_type": "markdown",
      "source": [
        "### **Question**: Predict the output.\n",
        "```python\n",
        "10-4*2+5-6/2\n",
        "```\n",
        "**Ans:** 4.0"
      ],
      "metadata": {
        "id": "4ciZZ6H2u0El"
      }
    },
    {
      "cell_type": "markdown",
      "source": [
        "<img src=\"https://d2beiqkhq929f0.cloudfront.net/public_assets/assets/000/040/416/original/question_bodmas.png?1689922995\" width=600 height=350>\n",
        "\n",
        "<img src=\"https://d2beiqkhq929f0.cloudfront.net/public_assets/assets/000/040/417/original/bodmas_question_2.png?1689923639\" width=600 height=250>"
      ],
      "metadata": {
        "id": "CD54PexSHD7S"
      }
    },
    {
      "cell_type": "markdown",
      "source": [
        "---"
      ],
      "metadata": {
        "id": "kwRnJljJM_yl"
      }
    },
    {
      "cell_type": "markdown",
      "source": [
        "## **Quiz-5**"
      ],
      "metadata": {
        "id": "blylpxaKvCPS"
      }
    },
    {
      "cell_type": "markdown",
      "source": [
        "**Question:** Predict the output.\n",
        "```python\n",
        "x = 11\n",
        "y = 2\n",
        "z = 4\n",
        "res = (x + y - z) ** (x % z)\n",
        "print(res)\n",
        "```\n",
        "\n",
        "A. ```729```\n",
        "\n",
        "B. ```81```\n",
        "\n",
        "C. ```9```\n",
        "\n",
        "**Ans:** A. `729`"
      ],
      "metadata": {
        "id": "NGknEZgRvIFp"
      }
    },
    {
      "cell_type": "markdown",
      "source": [
        "<img src=\"https://d2beiqkhq929f0.cloudfront.net/public_assets/assets/000/040/418/original/quiz7.png?1689923709\" width=500 height=350>"
      ],
      "metadata": {
        "id": "VcrOqYEBH6QV"
      }
    },
    {
      "cell_type": "markdown",
      "source": [
        "---"
      ],
      "metadata": {
        "id": "7M_jVK_9NARv"
      }
    },
    {
      "cell_type": "markdown",
      "source": [
        "### The ```bool()``` function\n",
        "\n",
        "\n",
        "\n"
      ],
      "metadata": {
        "id": "ToTdBJVXIv38"
      }
    },
    {
      "cell_type": "markdown",
      "source": [
        "In Python,\n",
        "- Every number except 0 is `True`.\n",
        "- Every non-empty strings is `True`."
      ],
      "metadata": {
        "id": "G5v7s_1gvevw"
      }
    },
    {
      "cell_type": "code",
      "source": [
        "bool(1)"
      ],
      "metadata": {
        "colab": {
          "base_uri": "https://localhost:8080/"
        },
        "id": "mDhv2gH_vgaW",
        "outputId": "a430b760-3ada-42f4-de12-cfbf268e8e72"
      },
      "execution_count": 19,
      "outputs": [
        {
          "output_type": "execute_result",
          "data": {
            "text/plain": [
              "True"
            ]
          },
          "metadata": {},
          "execution_count": 19
        }
      ]
    },
    {
      "cell_type": "code",
      "source": [
        "bool(0)"
      ],
      "metadata": {
        "colab": {
          "base_uri": "https://localhost:8080/"
        },
        "id": "n1FBlPYTvhSV",
        "outputId": "18334ee3-63b5-447d-80b0-bbfb1880a3b0"
      },
      "execution_count": 20,
      "outputs": [
        {
          "output_type": "execute_result",
          "data": {
            "text/plain": [
              "False"
            ]
          },
          "metadata": {},
          "execution_count": 20
        }
      ]
    },
    {
      "cell_type": "code",
      "source": [
        "bool(-123)"
      ],
      "metadata": {
        "colab": {
          "base_uri": "https://localhost:8080/"
        },
        "id": "8yd2sc4FvklB",
        "outputId": "17dc9972-0e89-4553-d7fc-a2a537688352"
      },
      "execution_count": 21,
      "outputs": [
        {
          "output_type": "execute_result",
          "data": {
            "text/plain": [
              "True"
            ]
          },
          "metadata": {},
          "execution_count": 21
        }
      ]
    },
    {
      "cell_type": "code",
      "source": [
        "bool(\"Hello\")"
      ],
      "metadata": {
        "colab": {
          "base_uri": "https://localhost:8080/"
        },
        "id": "x8oLO4eLvkes",
        "outputId": "ba5a6525-f1d0-4a0b-deae-3dd723f04b62"
      },
      "execution_count": 22,
      "outputs": [
        {
          "output_type": "execute_result",
          "data": {
            "text/plain": [
              "True"
            ]
          },
          "metadata": {},
          "execution_count": 22
        }
      ]
    },
    {
      "cell_type": "code",
      "source": [
        "bool(\"\")"
      ],
      "metadata": {
        "colab": {
          "base_uri": "https://localhost:8080/"
        },
        "id": "i30VTyOdvkUv",
        "outputId": "f06b6e32-c762-4cf1-9a42-7ccbe9b1a744"
      },
      "execution_count": 23,
      "outputs": [
        {
          "output_type": "execute_result",
          "data": {
            "text/plain": [
              "False"
            ]
          },
          "metadata": {},
          "execution_count": 23
        }
      ]
    },
    {
      "cell_type": "code",
      "source": [
        "bool(\" \")"
      ],
      "metadata": {
        "colab": {
          "base_uri": "https://localhost:8080/"
        },
        "id": "i1WlkpIavn_y",
        "outputId": "7a3cc102-66bf-409a-9a6f-7bcb91b54027"
      },
      "execution_count": 24,
      "outputs": [
        {
          "output_type": "execute_result",
          "data": {
            "text/plain": [
              "True"
            ]
          },
          "metadata": {},
          "execution_count": 24
        }
      ]
    },
    {
      "cell_type": "markdown",
      "source": [
        "**Question:** Predict the output\n",
        "\n",
        "```python\n",
        "print(bool('false'))\n",
        "```\n",
        "A. ```True```\n",
        "\n",
        "B. ```False```\n",
        "\n",
        "**Ans:** A. `True`"
      ],
      "metadata": {
        "id": "Qh4e2EMtv0zD"
      }
    },
    {
      "cell_type": "markdown",
      "source": [
        "**Question:** Predict the output\n",
        "\n",
        "```python\n",
        "print(int(True))\n",
        "```\n",
        "A. 1\n",
        "\n",
        "B. 0\n",
        "\n",
        "**Ans:** A. `1`\n",
        "\n"
      ],
      "metadata": {
        "id": "snJj5B4KKCCe"
      }
    },
    {
      "cell_type": "markdown",
      "source": [
        "---"
      ],
      "metadata": {
        "id": "EENiAJ5RNA3i"
      }
    },
    {
      "cell_type": "markdown",
      "source": [
        "## **Comparison operators**"
      ],
      "metadata": {
        "id": "qgQnyCrgwSur"
      }
    },
    {
      "cell_type": "markdown",
      "source": [
        "- operators such as `>, <, >=, <=, ==, !=`"
      ],
      "metadata": {
        "id": "FxMJpiwvwaae"
      }
    },
    {
      "cell_type": "markdown",
      "source": [
        "<img src=\"https://d2beiqkhq929f0.cloudfront.net/public_assets/assets/000/040/419/original/operators_comparison.png?1689924424\" width=600 height=200>"
      ],
      "metadata": {
        "id": "-GaS8HhwK4q3"
      }
    },
    {
      "cell_type": "code",
      "source": [
        "my_marks = 50\n",
        "my_cousin_marks = 90"
      ],
      "metadata": {
        "id": "JsofGATww3Zo"
      },
      "execution_count": 25,
      "outputs": []
    },
    {
      "cell_type": "code",
      "source": [
        "my_marks > my_cousin_marks"
      ],
      "metadata": {
        "colab": {
          "base_uri": "https://localhost:8080/"
        },
        "id": "vQhb7DFhw5WU",
        "outputId": "129701eb-5d71-4b2e-d75c-9afbee33c6dc"
      },
      "execution_count": 26,
      "outputs": [
        {
          "output_type": "execute_result",
          "data": {
            "text/plain": [
              "False"
            ]
          },
          "metadata": {},
          "execution_count": 26
        }
      ]
    },
    {
      "cell_type": "code",
      "source": [
        "my_marks == my_cousin_marks"
      ],
      "metadata": {
        "colab": {
          "base_uri": "https://localhost:8080/"
        },
        "id": "sOhBofxhxCIW",
        "outputId": "220a54a9-28d4-4d09-9c4c-9e6444b1a38c"
      },
      "execution_count": 27,
      "outputs": [
        {
          "output_type": "execute_result",
          "data": {
            "text/plain": [
              "False"
            ]
          },
          "metadata": {},
          "execution_count": 27
        }
      ]
    },
    {
      "cell_type": "code",
      "source": [
        "my_marks = 90"
      ],
      "metadata": {
        "id": "De3XXh4NxDTt"
      },
      "execution_count": 28,
      "outputs": []
    },
    {
      "cell_type": "code",
      "source": [
        "my_marks == my_cousin_marks"
      ],
      "metadata": {
        "colab": {
          "base_uri": "https://localhost:8080/"
        },
        "id": "yA2Eiqs3xFZL",
        "outputId": "aaad2e21-74c3-4832-ef62-1d0c2780d7ef"
      },
      "execution_count": 29,
      "outputs": [
        {
          "output_type": "execute_result",
          "data": {
            "text/plain": [
              "True"
            ]
          },
          "metadata": {},
          "execution_count": 29
        }
      ]
    },
    {
      "cell_type": "code",
      "source": [
        "my_marks!=my_cousin_marks"
      ],
      "metadata": {
        "colab": {
          "base_uri": "https://localhost:8080/"
        },
        "id": "ZVAaVCCLxIaJ",
        "outputId": "fb27a44a-53d8-4081-fc8d-a7d53e5336a9"
      },
      "execution_count": 30,
      "outputs": [
        {
          "output_type": "execute_result",
          "data": {
            "text/plain": [
              "False"
            ]
          },
          "metadata": {},
          "execution_count": 30
        }
      ]
    },
    {
      "cell_type": "markdown",
      "source": [
        "---"
      ],
      "metadata": {
        "id": "vOK5kp_gNBXO"
      }
    },
    {
      "cell_type": "markdown",
      "source": [
        "## **Assignment operators**"
      ],
      "metadata": {
        "id": "8fVRUN1Mx6kR"
      }
    },
    {
      "cell_type": "markdown",
      "source": [
        "- ```=``` is an assignment operator.\n",
        "- It assigns the RHS operand value to the LHS operand."
      ],
      "metadata": {
        "id": "7dpnXA4SyDgw"
      }
    },
    {
      "cell_type": "code",
      "source": [
        "a = 4 * 4\n",
        "a"
      ],
      "metadata": {
        "colab": {
          "base_uri": "https://localhost:8080/"
        },
        "id": "qLui0zGvyJW9",
        "outputId": "c108ad8f-6180-4869-97c8-f7ca67226a66"
      },
      "execution_count": 31,
      "outputs": [
        {
          "output_type": "execute_result",
          "data": {
            "text/plain": [
              "16"
            ]
          },
          "metadata": {},
          "execution_count": 31
        }
      ]
    },
    {
      "cell_type": "code",
      "source": [
        "a = 5\n",
        "a = a + 2\n",
        "a"
      ],
      "metadata": {
        "colab": {
          "base_uri": "https://localhost:8080/"
        },
        "id": "0cM6KQhOyYDf",
        "outputId": "2529b83e-897e-420e-8ca7-01bdd2702be1"
      },
      "execution_count": 32,
      "outputs": [
        {
          "output_type": "execute_result",
          "data": {
            "text/plain": [
              "7"
            ]
          },
          "metadata": {},
          "execution_count": 32
        }
      ]
    },
    {
      "cell_type": "markdown",
      "source": [
        "<img src=\"https://d2beiqkhq929f0.cloudfront.net/public_assets/assets/000/040/420/original/assignment_op.png?1689924874\" width=500 height=250>\n"
      ],
      "metadata": {
        "id": "i5EQVuh8L9GT"
      }
    },
    {
      "cell_type": "code",
      "source": [
        "# Question\n",
        "# What will be the output?\n",
        "\n",
        "marks = 50\n",
        "correction = 0.5\n",
        "marks = marks + correction\n",
        "\n",
        "marks = marks + correction\n",
        "marks"
      ],
      "metadata": {
        "colab": {
          "base_uri": "https://localhost:8080/"
        },
        "id": "79ir26hT8Crj",
        "outputId": "f5a41513-5ea8-48a8-94b0-ebe1d975a61b"
      },
      "execution_count": 33,
      "outputs": [
        {
          "output_type": "execute_result",
          "data": {
            "text/plain": [
              "51.0"
            ]
          },
          "metadata": {},
          "execution_count": 33
        }
      ]
    },
    {
      "cell_type": "code",
      "source": [
        "# Question\n",
        "# What will be the output?\n",
        "\n",
        "a = 5\n",
        "a += 2\n",
        "print(a)\n",
        "a -= 2\n",
        "print(a)\n",
        "a *= 2\n",
        "print(a)"
      ],
      "metadata": {
        "colab": {
          "base_uri": "https://localhost:8080/"
        },
        "id": "izpfwuiq8Q5A",
        "outputId": "4fbfe6c2-e503-410e-eab6-eebd69976de1"
      },
      "execution_count": 34,
      "outputs": [
        {
          "output_type": "stream",
          "name": "stdout",
          "text": [
            "7\n",
            "5\n",
            "10\n"
          ]
        }
      ]
    },
    {
      "cell_type": "markdown",
      "source": [
        "---"
      ],
      "metadata": {
        "id": "dF6CE7MrNB6M"
      }
    },
    {
      "cell_type": "markdown",
      "source": [
        "## **Logical operators**\n"
      ],
      "metadata": {
        "id": "bsAmGnlwE2C5"
      }
    },
    {
      "cell_type": "markdown",
      "source": [
        "- `and`, `or`, `not`\n",
        "- used when there are multiple conditions"
      ],
      "metadata": {
        "id": "szxUAGIQFB4b"
      }
    },
    {
      "cell_type": "markdown",
      "source": [
        "<img src=\"https://d2beiqkhq929f0.cloudfront.net/public_assets/assets/000/040/421/original/logical_op.png?1689925052\" width=600 height=200>"
      ],
      "metadata": {
        "id": "Fe1bKLIPFZUY"
      }
    },
    {
      "cell_type": "markdown",
      "source": [
        "### ```and``` operator"
      ],
      "metadata": {
        "id": "_8DBzKupFiAe"
      }
    },
    {
      "cell_type": "markdown",
      "source": [
        "* ```True``` only if all the conditions are satisfied."
      ],
      "metadata": {
        "id": "uZVjpkslFpBG"
      }
    },
    {
      "cell_type": "markdown",
      "source": [
        "\n",
        "<img src=\"https://d2beiqkhq929f0.cloudfront.net/public_assets/assets/000/040/422/original/and_op.png?1689925148\" width=600 height=250>"
      ],
      "metadata": {
        "id": "O2oFWKbaFvbo"
      }
    },
    {
      "cell_type": "markdown",
      "source": [
        "### ```or``` operator"
      ],
      "metadata": {
        "id": "M3erdwDqF0X5"
      }
    },
    {
      "cell_type": "markdown",
      "source": [
        "* `True` if any one of the conditions are satisfied."
      ],
      "metadata": {
        "id": "7r89wW3gF3Ho"
      }
    },
    {
      "cell_type": "markdown",
      "source": [
        "<img src=\"https://d2beiqkhq929f0.cloudfront.net/public_assets/assets/000/040/423/original/or_op.png?1689925216\" width=600 height=300>"
      ],
      "metadata": {
        "id": "leszruEpF-Uj"
      }
    },
    {
      "cell_type": "markdown",
      "source": [
        "---"
      ],
      "metadata": {
        "id": "zt4QJLsPNEUM"
      }
    },
    {
      "cell_type": "markdown",
      "source": [
        "### **Truth Tables**"
      ],
      "metadata": {
        "id": "hgPyGDW4GEuq"
      }
    },
    {
      "cell_type": "markdown",
      "source": [
        "- **x** and **y** are conditions\n",
        "- 1 is `True`, 0 is `False`"
      ],
      "metadata": {
        "id": "_WqQkHapGJfC"
      }
    },
    {
      "cell_type": "markdown",
      "source": [
        "#### Truth table for `and`"
      ],
      "metadata": {
        "id": "c1IHmJ3bGQYU"
      }
    },
    {
      "cell_type": "markdown",
      "source": [
        "<img src=\"https://d2beiqkhq929f0.cloudfront.net/public_assets/assets/000/040/424/original/tt_for_and.png?1689925318\" width=300 height=250>"
      ],
      "metadata": {
        "id": "Na3kva-rGVYv"
      }
    },
    {
      "cell_type": "markdown",
      "source": [
        "#### Truth table for `or`"
      ],
      "metadata": {
        "id": "7iuz8ThXGaSX"
      }
    },
    {
      "cell_type": "markdown",
      "source": [
        "<img src=\"https://d2beiqkhq929f0.cloudfront.net/public_assets/assets/000/040/425/original/tt_or.png?1689925403\" width=300 height=250>"
      ],
      "metadata": {
        "id": "WJOJcax9Gf37"
      }
    },
    {
      "cell_type": "markdown",
      "source": [
        "---"
      ],
      "metadata": {
        "id": "M4k6VjRfNFM6"
      }
    },
    {
      "cell_type": "markdown",
      "source": [
        "#### **Question:** Predict the output of the following pieces of code."
      ],
      "metadata": {
        "id": "zB4UFqCre1H4"
      }
    },
    {
      "cell_type": "code",
      "source": [
        "a=10"
      ],
      "metadata": {
        "id": "ZgLhGkpSewBp"
      },
      "execution_count": 35,
      "outputs": []
    },
    {
      "cell_type": "code",
      "source": [
        "a>5 or a>20 or a<2 #True"
      ],
      "metadata": {
        "id": "8TRzf67eewE3",
        "outputId": "4f5514de-fd4a-473e-870a-660c9054ad53",
        "colab": {
          "base_uri": "https://localhost:8080/"
        }
      },
      "execution_count": 36,
      "outputs": [
        {
          "output_type": "execute_result",
          "data": {
            "text/plain": [
              "True"
            ]
          },
          "metadata": {},
          "execution_count": 36
        }
      ]
    },
    {
      "cell_type": "code",
      "source": [
        "a>5 and a==20 and a<2 #False"
      ],
      "metadata": {
        "id": "as8zxBdWewIO",
        "outputId": "6b95fbd4-9e9f-4627-bae5-5ab6abcff2b1",
        "colab": {
          "base_uri": "https://localhost:8080/"
        }
      },
      "execution_count": 37,
      "outputs": [
        {
          "output_type": "execute_result",
          "data": {
            "text/plain": [
              "False"
            ]
          },
          "metadata": {},
          "execution_count": 37
        }
      ]
    },
    {
      "cell_type": "markdown",
      "source": [
        "#### **Check if a number is a multiple -**"
      ],
      "metadata": {
        "id": "S7Pki0UAGpqI"
      }
    },
    {
      "cell_type": "code",
      "source": [
        "\n",
        "\n",
        "\n",
        "\n",
        "\n",
        "\n",
        "\n",
        "\n",
        "amount = 1000\n",
        "amount % 500 == 0"
      ],
      "metadata": {
        "colab": {
          "base_uri": "https://localhost:8080/"
        },
        "id": "4ahFBrLrGzlw",
        "outputId": "b8dc133c-c9c7-4827-873f-f2eafd368738"
      },
      "execution_count": 38,
      "outputs": [
        {
          "output_type": "execute_result",
          "data": {
            "text/plain": [
              "True"
            ]
          },
          "metadata": {},
          "execution_count": 38
        }
      ]
    },
    {
      "cell_type": "markdown",
      "source": [
        "#### **ATM Dispatch**"
      ],
      "metadata": {
        "id": "K6w2xzrtG3Pz"
      }
    },
    {
      "cell_type": "code",
      "source": [
        "amount= int(input(\"Please enter the amount to withdraw: \"))\n",
        "amount % 500 == 0 or amount % 200 == 0"
      ],
      "metadata": {
        "colab": {
          "base_uri": "https://localhost:8080/"
        },
        "id": "Wp2hXLtrG7C7",
        "outputId": "8a02de35-c439-405b-a618-19d0e3715dc0"
      },
      "execution_count": 39,
      "outputs": [
        {
          "name": "stdout",
          "output_type": "stream",
          "text": [
            "Please enter the amount to withdraw: 70000\n"
          ]
        },
        {
          "output_type": "execute_result",
          "data": {
            "text/plain": [
              "True"
            ]
          },
          "metadata": {},
          "execution_count": 39
        }
      ]
    },
    {
      "cell_type": "markdown",
      "source": [
        "\n",
        "### ```not``` operator"
      ],
      "metadata": {
        "id": "4Fc8GURXSb3S"
      }
    },
    {
      "cell_type": "markdown",
      "source": [
        "- Works only with **boolean** operands."
      ],
      "metadata": {
        "id": "FrJR42-YHG6U"
      }
    },
    {
      "cell_type": "code",
      "source": [
        "print(not True)\n",
        "\n",
        "print(not False)\n",
        "\n",
        "print(not 24 < 56)"
      ],
      "metadata": {
        "colab": {
          "base_uri": "https://localhost:8080/"
        },
        "id": "ge_aI96SHGZQ",
        "outputId": "7c87734a-f827-4913-a195-71f50039ed6b"
      },
      "execution_count": 40,
      "outputs": [
        {
          "output_type": "stream",
          "name": "stdout",
          "text": [
            "False\n",
            "True\n",
            "False\n"
          ]
        }
      ]
    },
    {
      "cell_type": "markdown",
      "source": [
        "---"
      ],
      "metadata": {
        "id": "GlGhYf1SzKaA"
      }
    },
    {
      "cell_type": "code",
      "source": [],
      "metadata": {
        "id": "cXxOK5ko-PRj"
      },
      "execution_count": 40,
      "outputs": []
    }
  ]
}